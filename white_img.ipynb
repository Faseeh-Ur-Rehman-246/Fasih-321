{
 "cells": [
  {
   "cell_type": "code",
   "execution_count": 42,
   "id": "d6be3205-dd5f-4dd2-b55a-0cb209fd7999",
   "metadata": {},
   "outputs": [],
   "source": [
    "import cv2\n",
    "import numpy as np\n",
    "import matplotlib.pyplot as plt"
   ]
  },
  {
   "cell_type": "code",
   "execution_count": 69,
   "id": "6980046b-aa7f-4914-9b40-b81e57ec6a3a",
   "metadata": {},
   "outputs": [
    {
     "name": "stdout",
     "output_type": "stream",
     "text": [
      "[[[13 19 24]\n",
      "  [13 19 24]\n",
      "  [13 19 24]\n",
      "  ...\n",
      "  [13 19 24]\n",
      "  [13 19 24]\n",
      "  [13 19 24]]\n",
      "\n",
      " [[13 19 24]\n",
      "  [13 19 24]\n",
      "  [13 19 24]\n",
      "  ...\n",
      "  [13 19 24]\n",
      "  [13 19 24]\n",
      "  [13 19 24]]\n",
      "\n",
      " [[13 19 24]\n",
      "  [13 19 24]\n",
      "  [12 18 23]\n",
      "  ...\n",
      "  [12 18 23]\n",
      "  [13 19 24]\n",
      "  [13 19 24]]\n",
      "\n",
      " ...\n",
      "\n",
      " [[22 33 37]\n",
      "  [31 42 46]\n",
      "  [37 48 52]\n",
      "  ...\n",
      "  [14 12 11]\n",
      "  [13 11 10]\n",
      "  [14 12 11]]\n",
      "\n",
      " [[22 33 37]\n",
      "  [31 42 46]\n",
      "  [37 48 52]\n",
      "  ...\n",
      "  [18 16 15]\n",
      "  [15 13 12]\n",
      "  [12 10  9]]\n",
      "\n",
      " [[22 33 37]\n",
      "  [31 42 46]\n",
      "  [37 48 52]\n",
      "  ...\n",
      "  [23 21 20]\n",
      "  [17 15 14]\n",
      "  [11  9  8]]]\n"
     ]
    }
   ],
   "source": [
    "img = cv2.imread(r\"C:\\Users\\Tech Pool\\Downloads\\directories\\img_1.jpg\")\n",
    "\n",
    "print(img)"
   ]
  },
  {
   "cell_type": "code",
   "execution_count": null,
   "id": "4b33f6d7-b13a-44b2-b595-fdd2c02d147c",
   "metadata": {},
   "outputs": [],
   "source": []
  },
  {
   "cell_type": "code",
   "execution_count": 70,
   "id": "cf758cf6-0a3e-44b4-9e0c-bebfd76bb123",
   "metadata": {},
   "outputs": [],
   "source": [
    "cv2.imshow('Displayed Image', img)\n",
    "cv2.waitKey(0)\n",
    "cv2.destroyAllWindows()"
   ]
  },
  {
   "cell_type": "code",
   "execution_count": 71,
   "id": "30d6d1d3-624e-49bc-bb78-5e1cf9b12d40",
   "metadata": {},
   "outputs": [],
   "source": [
    "hsv = cv2.cvtColor(img,cv2.COLOR_BGR2HSV)\n",
    "cv2.imshow('HSV_img',hsv)\n",
    "cv2.waitKey(0)\n",
    "cv2.destroyAllWindows()"
   ]
  },
  {
   "cell_type": "code",
   "execution_count": 74,
   "id": "bee8aa47-9be0-43c5-8feb-a7ce5a11cd7f",
   "metadata": {},
   "outputs": [],
   "source": [
    "red_lower1 = np.array([0,100,100],np.uint8)\n",
    "red_upper1 = np.array([10,255,255],np.uint8)"
   ]
  },
  {
   "cell_type": "code",
   "execution_count": 75,
   "id": "36afb6f8-28a6-482d-a525-7bad1ff9d307",
   "metadata": {},
   "outputs": [],
   "source": [
    "red_lower2 = np.array([160,100,100],np.uint8)\n",
    "red_upper2 = np.array([180,255,255],np.uint8)"
   ]
  },
  {
   "cell_type": "code",
   "execution_count": 76,
   "id": "74dea366-8787-4f6d-8a5c-505e25df3a59",
   "metadata": {},
   "outputs": [],
   "source": [
    "r_m1 = cv2.inRange(hsv,red_lower1,red_upper1)\n",
    "r_m2 = cv2.inRange(hsv,red_lower2,red_upper2)"
   ]
  },
  {
   "cell_type": "code",
   "execution_count": 78,
   "id": "0bcbdf20-78ec-4466-a9f0-35dc9329170d",
   "metadata": {},
   "outputs": [],
   "source": [
    "r_mask = np.bitwise_or(r_m1,r_m2)\n",
    "cv2.imshow('mask',r_mask)\n",
    "cv2.waitKey(0)\n",
    "cv2.destroyAllWindows()"
   ]
  },
  {
   "cell_type": "code",
   "execution_count": 83,
   "id": "616a8085-4d64-4cd6-8b60-9b734e49da9b",
   "metadata": {},
   "outputs": [],
   "source": [
    "img[r_mask>0] = (255,255,255)\n",
    "cv2.imshow('change_mask',img)\n",
    "cv2.waitKey(0)\n",
    "cv2.destroyAllWindows()"
   ]
  },
  {
   "cell_type": "code",
   "execution_count": 85,
   "id": "b53aeab4-e907-435f-bf7a-d3c0b276af08",
   "metadata": {},
   "outputs": [
    {
     "data": {
      "text/plain": [
       "True"
      ]
     },
     "execution_count": 85,
     "metadata": {},
     "output_type": "execute_result"
    }
   ],
   "source": [
    "cv2.imwrite(\"image.jpg\",img)"
   ]
  },
  {
   "cell_type": "code",
   "execution_count": null,
   "id": "c81a95a8-4a28-40fa-bf58-8dfab4234540",
   "metadata": {},
   "outputs": [],
   "source": []
  }
 ],
 "metadata": {
  "kernelspec": {
   "display_name": "Python 3 (ipykernel)",
   "language": "python",
   "name": "python3"
  },
  "language_info": {
   "codemirror_mode": {
    "name": "ipython",
    "version": 3
   },
   "file_extension": ".py",
   "mimetype": "text/x-python",
   "name": "python",
   "nbconvert_exporter": "python",
   "pygments_lexer": "ipython3",
   "version": "3.12.7"
  }
 },
 "nbformat": 4,
 "nbformat_minor": 5
}
